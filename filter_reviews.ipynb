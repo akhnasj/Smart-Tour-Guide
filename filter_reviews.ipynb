{
 "cells": [
  {
   "cell_type": "code",
   "execution_count": 1,
   "id": "d1d8a022-42e9-4a2f-aae6-ea1a2dbf8854",
   "metadata": {},
   "outputs": [],
   "source": [
    "import pandas as pd"
   ]
  },
  {
   "cell_type": "code",
   "execution_count": 37,
   "id": "53a734ca-ff57-4e2a-9fcf-346fb7c50ee2",
   "metadata": {},
   "outputs": [
    {
     "name": "stdout",
     "output_type": "stream",
     "text": [
      "Locations:\n",
      "   l_id  State   City                  Name   Significance          Type  \\\n",
      "0     0  Delhi  Delhi            India Gate     Historical  War Memorial   \n",
      "1     1  Delhi  Delhi        Humayun's Tomb     Historical          Tomb   \n",
      "2     2  Delhi  Delhi     Akshardham Temple      Religious        Temple   \n",
      "3     3  Delhi  Delhi  Waste to Wonder Park  Environmental    Theme Park   \n",
      "4     4  Delhi  Delhi         Jantar Mantar     Scientific   Observatory   \n",
      "\n",
      "   Google review rating Airport with 50km Radius Best Time to visit  \n",
      "0                   4.6                      Yes            Evening  \n",
      "1                   4.5                      Yes          Afternoon  \n",
      "2                   4.6                      Yes          Afternoon  \n",
      "3                   4.1                      Yes            Evening  \n",
      "4                   4.2                      Yes            Morning  \n",
      "\n",
      "Reviews:\n",
      "                City            Place  \\\n",
      "0  Aamby Valley City  19 Degree North   \n",
      "1  Aamby Valley City  19 Degree North   \n",
      "2  Aamby Valley City  19 Degree North   \n",
      "3  Aamby Valley City  19 Degree North   \n",
      "4  Aamby Valley City  19 Degree North   \n",
      "\n",
      "                                              Review  Rating       Name  Date  \\\n",
      "0  aamby valley beautiful place clear blue skies ...       5  Anonymous   NaN   \n",
      "1  executed obt akshay thanx team thoroughly enjo...       4  Anonymous   NaN   \n",
      "2  awesome experience atv tracts obstacles mainta...       5  Anonymous   NaN   \n",
      "3  visited aamby valley yesterday short excursion...       4  Anonymous   NaN   \n",
      "4  far mumbai place finest adventure places visit...       5  Anonymous   NaN   \n",
      "\n",
      "                                          Raw_Review  \n",
      "0  Aamby valley is a beautiful place with its cle...  \n",
      "1  Very well executed obt by Akshay.... Thanx as ...  \n",
      "2  Awesome experience at the ATV\\nTracts and obst...  \n",
      "3  we visited the Aamby Valley yesterday for shor...  \n",
      "4  Not far from Mumbai, this place is one of the ...  \n"
     ]
    }
   ],
   "source": [
    "# Load the locations and reviews CSV files\n",
    "locations_df = pd.read_csv(\"C:\\\\Users\\\\AKHNA\\\\Desktop\\\\MCA\\\\Smart-Tour-Guide\\\\locations.csv\")\n",
    "reviews_df = pd.read_csv(r\"C:\\\\Users\\\\AKHNA\\\\Downloads\\\\Review_db.csv\\\\Review_db.csv\")\n",
    "\n",
    "# Display the first few rows to check structure\n",
    "print(\"Locations:\")\n",
    "print(locations_df.head())\n",
    "print(\"\\nReviews:\")\n",
    "print(reviews_df.head())\n"
   ]
  },
  {
   "cell_type": "code",
   "execution_count": 13,
   "id": "8cba32ed-3c7d-4a32-9dda-6f8196c54be7",
   "metadata": {},
   "outputs": [
    {
     "name": "stdout",
     "output_type": "stream",
     "text": [
      "List of cities to search for: ['Delhi', 'Mumbai', 'Lonavala', 'Bangalore', 'Hyderabad', 'Kolkata', 'Goa', 'Ahmedabad', 'Dwarka', 'Junagadh', 'Bhuj', 'Vadodara', 'Somnath', 'Rann of Kutch', 'Kevadia', 'Gandhinagar', 'Jaipur', 'Udaipur', 'Jaisalmer', 'Sawai Madhopur', 'Pushkar', 'Ajmer', 'Jodhpur', 'Chittorgarh', 'Mount Abu', 'Bikaner', 'Amritsar', 'Chandigarh', 'Alappuzha', 'Munnar', 'Kochi', 'Thiruvananthapuram', 'Kozhikode', 'Wayanad', 'Thekkady', 'Kumarakom', 'Varkala', 'Bekal', 'Kovalam', 'Kannur', 'Nelliyampathy', 'Mysore', 'Hampi', 'Coorg', 'Gokarna', 'Chikmagalur', 'Badami', 'Shivamogga', 'Mangalore', 'Murudeshwar', 'Bijapur', 'Bandipur', 'Halebidu', 'Pune', 'Aurangabad', 'Nashik', 'Shirdi', 'Alibaug', 'Ratnagiri', 'Nagpur', 'Kolhapur', 'Tarkarli', 'Satara', 'Matheran', 'Ajanta', 'Khajuraho', 'Bhopal', 'Indore', 'Gwalior', 'Ujjain', 'Jabalpur', 'Pachmarhi', 'Kanha', 'Bandhavgarh', 'Orchha', 'Mandu', 'Bhimbetka', 'Amarkantak', 'Chitrakoot', 'Shimla', 'Manali', 'dalhousie', 'Dalhousie', 'Spiti Valley', 'Kullu', 'Chamba', 'Kinnaur', 'Kangra', 'Palampur', 'Mandi', 'Bir Billing', 'McLeod Ganj', 'Manikaran', 'Narkanda', 'Barot', 'Shoja', 'Kufri', 'Nainital', 'Rishikesh', 'Haridwar', 'Dehradun', 'Mussoorie', 'Auli', 'Badrinath', 'Almora', 'Ranikhet', 'Jim Corbett', 'Uttarkashi', 'Chopta', 'Joshimath', 'Agra', 'Varanasi', 'Lucknow', 'Mathura', 'Ayodhya', 'Vrindavan', 'Allahabad', 'Jhansi', 'Sarnath', 'Fatehpur Sikri', 'Noida', 'Aligarh', 'Meerut', 'Kanpur', 'Srinagar', 'Leh', 'Pahalgam', 'Jammu', 'Udhampur', 'Anantnag', 'Nubra Valley', 'Kargil', 'Diskit', 'Kishtwar', 'Hemis', 'Dras', 'Porbandar', 'Darjeeling', 'Siliguri', 'Sundarbans', 'Digha', 'Murshidabad', 'Bolpur', 'Hooghly', 'Jalpaiguri', 'Cooch Behar', 'Purulia', 'Puri', 'Konark', 'Bhubaneswar', 'Rourkela', 'Cuttack', 'Sambalpur', 'Chilika', 'Berhampur', 'Keonjhar', 'Balasore', 'Kendujhar', 'Chennai', 'Madurai', 'Rameswaram', 'Kanyakumari', 'Ooty', 'Coimbatore', 'Kodaikanal', 'Thanjavur', 'Mahabalipuram', 'Yercaud', 'Tirunelveli', 'Chidambaram', 'Vijayawada', 'Visakhapatnam', 'Srisailam', 'Rajahmundry', 'Anantapur', 'Kurnool', 'Amravati', 'Guntur', 'Kadapa', 'Puttaparthi', 'Vizianagaram', 'Gangtok', 'Pelling', 'Namchi', 'Ravangla', 'Guwahati', 'Kaziranga', 'Sivasagar', 'Majuli', 'Manas', 'Hajo', 'Tawang', 'Agartala', 'Dumboor', 'Unakoti', 'Bastar', 'Dzükou Valley', 'Puducherry', 'Auroville', 'Port Blair', 'Havelock Island', 'Neil Island', 'Baratang Island', 'Diu', 'Deoghar', 'Ranchi', 'Bodh Gaya', 'Patna', 'Gurugram', 'New Delhi', 'Kedarnath', 'Greater Noida', 'Bengaluru', 'Cherrapunji']\n"
     ]
    }
   ],
   "source": [
    "# Get the list of unique cities from locations.csv\n",
    "cities = locations_df['City'].unique().tolist()\n",
    "print(\"List of cities to search for:\", cities)\n"
   ]
  },
  {
   "cell_type": "code",
   "execution_count": 47,
   "id": "781f0641-c963-4429-b547-9df826071aec",
   "metadata": {},
   "outputs": [
    {
     "name": "stdout",
     "output_type": "stream",
     "text": [
      "\n",
      "Limited Reviews:\n",
      "             City  Rating                                         Raw_Review\n",
      "1239     Agartala       5  Nice park in khowai dist of Tripura. You can c...\n",
      "1240     Agartala       5  One of the good places to visit in town on a s...\n",
      "1241     Agartala       4  In the heart of the city this Hindu temple is ...\n",
      "1252     Agartala       4  You will only see a temple Nothing else to wat...\n",
      "1253     Agartala       4  14 goddess temple is is one of the tourist and...\n",
      "...           ...     ...                                                ...\n",
      "1478103   Yercaud       3  Must visit this road if you're driving to Yerc...\n",
      "1478104   Yercaud       5  it was a beautiful foggy night ride up to yerc...\n",
      "1478105   Yercaud       5  We hired a taxi specifically to see this loop ...\n",
      "1478106   Yercaud       5  The 32km loop road is a beautiful and amazing ...\n",
      "1478107   Yercaud       5  Great adventure picturesque hilly scenic valle...\n",
      "\n",
      "[861 rows x 3 columns]\n"
     ]
    }
   ],
   "source": [
    "# Filter reviews based on the list of cities\n",
    "filtered_reviews = reviews_df[reviews_df['City'].isin(cities)][['City', 'Rating', 'Raw_Review']]\n",
    "\n",
    "# Group by City and take the first 5 reviews for each city\n",
    "limited_reviews = filtered_reviews.groupby('City').head(5)\n",
    "\n",
    "# Display the limited reviews\n",
    "print(\"\\nLimited Reviews:\")\n",
    "print(limited_reviews)"
   ]
  },
  {
   "cell_type": "code",
   "execution_count": null,
   "id": "3ea5528c-2d48-4292-bc8c-ad94a6e740e5",
   "metadata": {},
   "outputs": [
    {
     "name": "stdout",
     "output_type": "stream",
     "text": [
      "Limited reviews have been saved to 'C:\\Users\\AKHNA\\Desktop\\MCA\\Smart-Tour-Guide\\reviews.csv'\n"
     ]
    }
   ],
   "source": [
    "\n",
    "\n",
    "\n",
    "\n",
    "\n",
    "\n",
    "output_file_path = 'C:\\\\Users\\\\AKHNA\\\\Desktop\\\\MCA\\\\Smart-Tour-Guide\\\\reviews.csv'\n",
    "limited_reviews.to_csv(output_file_path, index=False)\n",
    "\n",
    "print(f\"Limited reviews have been saved to '{output_file_path}'\")"
   ]
  },
  {
   "cell_type": "code",
   "execution_count": 57,
   "id": "2009987f-8256-4a4f-a150-9b1fc38ebd62",
   "metadata": {},
   "outputs": [
    {
     "name": "stdout",
     "output_type": "stream",
     "text": [
      "Number of unique cities in the CSV: 1794\n"
     ]
    }
   ],
   "source": [
    "# Count the number of unique cities\n",
    "unique_cities_count = reviews_df['City'].nunique()\n",
    "\n",
    "# Display the number of unique cities\n",
    "print(f\"Number of unique cities in the CSV: {unique_cities_count}\")"
   ]
  }
 ],
 "metadata": {
  "kernelspec": {
   "display_name": "Python 3 (ipykernel)",
   "language": "python",
   "name": "python3"
  },
  "language_info": {
   "codemirror_mode": {
    "name": "ipython",
    "version": 3
   },
   "file_extension": ".py",
   "mimetype": "text/x-python",
   "name": "python",
   "nbconvert_exporter": "python",
   "pygments_lexer": "ipython3",
   "version": "3.12.4"
  }
 },
 "nbformat": 4,
 "nbformat_minor": 5
}
