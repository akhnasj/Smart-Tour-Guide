{
 "cells": [
  {
   "cell_type": "code",
   "execution_count": 5,
   "id": "a0771bc2-b3d6-4f36-ae74-1c1314172137",
   "metadata": {},
   "outputs": [],
   "source": [
    "# Import necessary libraries\n",
    "import csv\n",
    "import firebase_admin\n",
    "from firebase_admin import credentials, firestore\n"
   ]
  },
  {
   "cell_type": "code",
   "execution_count": 2,
   "id": "fbbe31d3-cc93-41ef-9740-d6f3a7968485",
   "metadata": {},
   "outputs": [
    {
     "data": {
      "text/plain": [
       "<firebase_admin.App at 0x1852e14f7d0>"
      ]
     },
     "execution_count": 2,
     "metadata": {},
     "output_type": "execute_result"
    }
   ],
   "source": [
    "# Initialize Firebase Admin SDK\n",
    "cred = credentials.Certificate(r\"C:\\Users\\AKHNA\\Downloads\\smart-tour-guide-3d30d-firebase-adminsdk-h17r2-bda949eabd.json\")\n",
    "firebase_admin.initialize_app(cred)\n"
   ]
  },
  {
   "cell_type": "code",
   "execution_count": 3,
   "id": "186b4a58-0222-470f-90fe-3c7dd362b4c2",
   "metadata": {},
   "outputs": [],
   "source": [
    "# Initialize Firestore\n",
    "db = firestore.client()\n"
   ]
  },
  {
   "cell_type": "code",
   "execution_count": 6,
   "id": "96f8c2f0-7df8-445a-b4be-964eb6b30d91",
   "metadata": {},
   "outputs": [
    {
     "name": "stdout",
     "output_type": "stream",
     "text": [
      "Locations uploaded successfully!\n"
     ]
    }
   ],
   "source": [
    "# Open and read the CSV file\n",
    "csv_file_path = r\"C:\\Users\\AKHNA\\Desktop\\MCA\\Smart-Tour-Guide\\locations.csv\"\n",
    "\n",
    "with open(csv_file_path, mode='r', newline='', encoding='utf-8') as file:\n",
    "    reader = csv.DictReader(file)  # Using DictReader to map each row as a dictionary\n",
    "\n",
    "    # Step 5: Upload data to Firestore\n",
    "    for row in reader:\n",
    "        # Convert row to a dictionary (DictReader does this automatically)\n",
    "        data = dict(row)\n",
    "        \n",
    "        # Use a unique identifier as the document ID, such as the location ID (l_id)\n",
    "        location_id = str(data.get('l_id'))\n",
    "        \n",
    "        # Upload to the 'locations' collection in Firestore\n",
    "        db.collection('locations').document(location_id).set(data)\n",
    "\n",
    "print(\"Locations uploaded successfully!\")\n"
   ]
  }
 ],
 "metadata": {
  "kernelspec": {
   "display_name": "Python 3 (ipykernel)",
   "language": "python",
   "name": "python3"
  },
  "language_info": {
   "codemirror_mode": {
    "name": "ipython",
    "version": 3
   },
   "file_extension": ".py",
   "mimetype": "text/x-python",
   "name": "python",
   "nbconvert_exporter": "python",
   "pygments_lexer": "ipython3",
   "version": "3.12.4"
  }
 },
 "nbformat": 4,
 "nbformat_minor": 5
}
