{
 "cells": [
  {
   "cell_type": "code",
   "execution_count": 1,
   "id": "55425512-47d5-49b4-96a8-0307f404fc12",
   "metadata": {},
   "outputs": [],
   "source": [
    "import csv\n",
    "import firebase_admin\n",
    "from firebase_admin import credentials, firestore"
   ]
  },
  {
   "cell_type": "code",
   "execution_count": 2,
   "id": "25003c52-3449-46f9-8785-2bf1bcad4cd6",
   "metadata": {},
   "outputs": [
    {
     "data": {
      "text/plain": [
       "<firebase_admin.App at 0x1d5e12b3c20>"
      ]
     },
     "execution_count": 2,
     "metadata": {},
     "output_type": "execute_result"
    }
   ],
   "source": [
    "# Initialize Firebase Admin SDK\n",
    "cred = credentials.Certificate(r\"C:\\Users\\AKHNA\\Downloads\\smart-tour-guide-3d30d-firebase-adminsdk-h17r2-bda949eabd.json\")\n",
    "firebase_admin.initialize_app(cred)"
   ]
  },
  {
   "cell_type": "code",
   "execution_count": 3,
   "id": "f1c94c7f-057c-4e1e-be8f-ea648bb0130a",
   "metadata": {},
   "outputs": [],
   "source": [
    "# Initialize Firestore\n",
    "db = firestore.client()"
   ]
  },
  {
   "cell_type": "code",
   "execution_count": 4,
   "id": "fe3d1f4f-a023-4a9f-af4f-9535a76e95d5",
   "metadata": {},
   "outputs": [
    {
     "name": "stdout",
     "output_type": "stream",
     "text": [
      "Reviews uploaded successfully!\n"
     ]
    }
   ],
   "source": [
    "# Open and read the reviews CSV file\n",
    "csv_file_path = r\"C:\\Users\\AKHNA\\Desktop\\MCA\\Smart-Tour-Guide\\reviews.csv\"\n",
    "\n",
    "with open(csv_file_path, mode='r', newline='', encoding='utf-8') as file:\n",
    "    reader = csv.DictReader(file)  # Using DictReader to map each row as a dictionary\n",
    "\n",
    "    # Step 4: Upload reviews data to Firestore\n",
    "    for row in reader:\n",
    "        # Convert row to a dictionary (DictReader does this automatically)\n",
    "        data = dict(row)\n",
    "        \n",
    "        # Use a unique identifier as the document ID, such as the review ID (r_id)\n",
    "        review_id = str(data.get('r_id'))\n",
    "        \n",
    "        # Upload to the 'reviews' collection in Firestore\n",
    "        db.collection('reviews').document(review_id).set(data)\n",
    "\n",
    "print(\"Reviews uploaded successfully!\")"
   ]
  }
 ],
 "metadata": {
  "kernelspec": {
   "display_name": "Python (venv)",
   "language": "python",
   "name": "venv"
  },
  "language_info": {
   "codemirror_mode": {
    "name": "ipython",
    "version": 3
   },
   "file_extension": ".py",
   "mimetype": "text/x-python",
   "name": "python",
   "nbconvert_exporter": "python",
   "pygments_lexer": "ipython3",
   "version": "3.12.4"
  }
 },
 "nbformat": 4,
 "nbformat_minor": 5
}
