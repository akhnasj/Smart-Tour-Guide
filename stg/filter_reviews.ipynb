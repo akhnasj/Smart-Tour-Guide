{
 "cells": [
  {
   "cell_type": "code",
   "execution_count": 1,
   "id": "d1d8a022-42e9-4a2f-aae6-ea1a2dbf8854",
   "metadata": {},
   "outputs": [],
   "source": [
    "import pandas as pd"
   ]
  },
  {
   "cell_type": "code",
   "execution_count": 37,
   "id": "53a734ca-ff57-4e2a-9fcf-346fb7c50ee2",
   "metadata": {},
   "outputs": [
    {
     "name": "stdout",
     "output_type": "stream",
     "text": [
      "Locations:\n",
      "   l_id  State   City                  Name   Significance          Type  \\\n",
      "0     0  Delhi  Delhi            India Gate     Historical  War Memorial   \n",
      "1     1  Delhi  Delhi        Humayun's Tomb     Historical          Tomb   \n",
      "2     2  Delhi  Delhi     Akshardham Temple      Religious        Temple   \n",
      "3     3  Delhi  Delhi  Waste to Wonder Park  Environmental    Theme Park   \n",
      "4     4  Delhi  Delhi         Jantar Mantar     Scientific   Observatory   \n",
      "\n",
      "   Google review rating Airport with 50km Radius Best Time to visit  \n",
      "0                   4.6                      Yes            Evening  \n",
      "1                   4.5                      Yes          Afternoon  \n",
      "2                   4.6                      Yes          Afternoon  \n",
      "3                   4.1                      Yes            Evening  \n",
      "4                   4.2                      Yes            Morning  \n",
      "\n",
      "Reviews:\n",
      "                City            Place  \\\n",
      "0  Aamby Valley City  19 Degree North   \n",
      "1  Aamby Valley City  19 Degree North   \n",
      "2  Aamby Valley City  19 Degree North   \n",
      "3  Aamby Valley City  19 Degree North   \n",
      "4  Aamby Valley City  19 Degree North   \n",
      "\n",
      "                                              Review  Rating       Name  Date  \\\n",
      "0  aamby valley beautiful place clear blue skies ...       5  Anonymous   NaN   \n",
      "1  executed obt akshay thanx team thoroughly enjo...       4  Anonymous   NaN   \n",
      "2  awesome experience atv tracts obstacles mainta...       5  Anonymous   NaN   \n",
      "3  visited aamby valley yesterday short excursion...       4  Anonymous   NaN   \n",
      "4  far mumbai place finest adventure places visit...       5  Anonymous   NaN   \n",
      "\n",
      "                                          Raw_Review  \n",
      "0  Aamby valley is a beautiful place with its cle...  \n",
      "1  Very well executed obt by Akshay.... Thanx as ...  \n",
      "2  Awesome experience at the ATV\\nTracts and obst...  \n",
      "3  we visited the Aamby Valley yesterday for shor...  \n",
      "4  Not far from Mumbai, this place is one of the ...  \n"
     ]
    }
   ],
   "source": [
    "# Load the locations and reviews CSV files\n",
    "locations_df = pd.read_csv(\"C:\\\\Users\\\\AKHNA\\\\Desktop\\\\MCA\\\\Smart-Tour-Guide\\\\locations.csv\")\n",
    "reviews_df = pd.read_csv(r\"C:\\\\Users\\\\AKHNA\\\\Downloads\\\\Review_db.csv\\\\Review_db.csv\")\n",
    "\n",
    "# Display the first few rows to check structure\n",
    "print(\"Locations:\")\n",
    "print(locations_df.head())\n",
    "print(\"\\nReviews:\")\n",
    "print(reviews_df.head())\n"
   ]
  },
  {
   "cell_type": "code",
   "execution_count": 13,
   "id": "8cba32ed-3c7d-4a32-9dda-6f8196c54be7",
   "metadata": {},
   "outputs": [
    {
     "name": "stdout",
     "output_type": "stream",
     "text": [
      "List of cities to search for: ['Delhi', 'Mumbai', 'Lonavala', 'Bangalore', 'Hyderabad', 'Kolkata', 'Goa', 'Ahmedabad', 'Dwarka', 'Junagadh', 'Bhuj', 'Vadodara', 'Somnath', 'Rann of Kutch', 'Kevadia', 'Gandhinagar', 'Jaipur', 'Udaipur', 'Jaisalmer', 'Sawai Madhopur', 'Pushkar', 'Ajmer', 'Jodhpur', 'Chittorgarh', 'Mount Abu', 'Bikaner', 'Amritsar', 'Chandigarh', 'Alappuzha', 'Munnar', 'Kochi', 'Thiruvananthapuram', 'Kozhikode', 'Wayanad', 'Thekkady', 'Kumarakom', 'Varkala', 'Bekal', 'Kovalam', 'Kannur', 'Nelliyampathy', 'Mysore', 'Hampi', 'Coorg', 'Gokarna', 'Chikmagalur', 'Badami', 'Shivamogga', 'Mangalore', 'Murudeshwar', 'Bijapur', 'Bandipur', 'Halebidu', 'Pune', 'Aurangabad', 'Nashik', 'Shirdi', 'Alibaug', 'Ratnagiri', 'Nagpur', 'Kolhapur', 'Tarkarli', 'Satara', 'Matheran', 'Ajanta', 'Khajuraho', 'Bhopal', 'Indore', 'Gwalior', 'Ujjain', 'Jabalpur', 'Pachmarhi', 'Kanha', 'Bandhavgarh', 'Orchha', 'Mandu', 'Bhimbetka', 'Amarkantak', 'Chitrakoot', 'Shimla', 'Manali', 'dalhousie', 'Dalhousie', 'Spiti Valley', 'Kullu', 'Chamba', 'Kinnaur', 'Kangra', 'Palampur', 'Mandi', 'Bir Billing', 'McLeod Ganj', 'Manikaran', 'Narkanda', 'Barot', 'Shoja', 'Kufri', 'Nainital', 'Rishikesh', 'Haridwar', 'Dehradun', 'Mussoorie', 'Auli', 'Badrinath', 'Almora', 'Ranikhet', 'Jim Corbett', 'Uttarkashi', 'Chopta', 'Joshimath', 'Agra', 'Varanasi', 'Lucknow', 'Mathura', 'Ayodhya', 'Vrindavan', 'Allahabad', 'Jhansi', 'Sarnath', 'Fatehpur Sikri', 'Noida', 'Aligarh', 'Meerut', 'Kanpur', 'Srinagar', 'Leh', 'Pahalgam', 'Jammu', 'Udhampur', 'Anantnag', 'Nubra Valley', 'Kargil', 'Diskit', 'Kishtwar', 'Hemis', 'Dras', 'Porbandar', 'Darjeeling', 'Siliguri', 'Sundarbans', 'Digha', 'Murshidabad', 'Bolpur', 'Hooghly', 'Jalpaiguri', 'Cooch Behar', 'Purulia', 'Puri', 'Konark', 'Bhubaneswar', 'Rourkela', 'Cuttack', 'Sambalpur', 'Chilika', 'Berhampur', 'Keonjhar', 'Balasore', 'Kendujhar', 'Chennai', 'Madurai', 'Rameswaram', 'Kanyakumari', 'Ooty', 'Coimbatore', 'Kodaikanal', 'Thanjavur', 'Mahabalipuram', 'Yercaud', 'Tirunelveli', 'Chidambaram', 'Vijayawada', 'Visakhapatnam', 'Srisailam', 'Rajahmundry', 'Anantapur', 'Kurnool', 'Amravati', 'Guntur', 'Kadapa', 'Puttaparthi', 'Vizianagaram', 'Gangtok', 'Pelling', 'Namchi', 'Ravangla', 'Guwahati', 'Kaziranga', 'Sivasagar', 'Majuli', 'Manas', 'Hajo', 'Tawang', 'Agartala', 'Dumboor', 'Unakoti', 'Bastar', 'Dzükou Valley', 'Puducherry', 'Auroville', 'Port Blair', 'Havelock Island', 'Neil Island', 'Baratang Island', 'Diu', 'Deoghar', 'Ranchi', 'Bodh Gaya', 'Patna', 'Gurugram', 'New Delhi', 'Kedarnath', 'Greater Noida', 'Bengaluru', 'Cherrapunji']\n"
     ]
    }
   ],
   "source": [
    "# Get the list of unique cities from locations.csv\n",
    "cities = locations_df['City'].unique().tolist()\n",
    "print(\"List of cities to search for:\", cities)\n"
   ]
  },
  {
   "cell_type": "code",
   "execution_count": 47,
   "id": "781f0641-c963-4429-b547-9df826071aec",
   "metadata": {},
   "outputs": [
    {
     "name": "stdout",
     "output_type": "stream",
     "text": [
      "\n",
      "Limited Reviews:\n",
      "             City  Rating                                         Raw_Review\n",
      "1239     Agartala       5  Nice park in khowai dist of Tripura. You can c...\n",
      "1240     Agartala       5  One of the good places to visit in town on a s...\n",
      "1241     Agartala       4  In the heart of the city this Hindu temple is ...\n",
      "1252     Agartala       4  You will only see a temple Nothing else to wat...\n",
      "1253     Agartala       4  14 goddess temple is is one of the tourist and...\n",
      "...           ...     ...                                                ...\n",
      "1478103   Yercaud       3  Must visit this road if you're driving to Yerc...\n",
      "1478104   Yercaud       5  it was a beautiful foggy night ride up to yerc...\n",
      "1478105   Yercaud       5  We hired a taxi specifically to see this loop ...\n",
      "1478106   Yercaud       5  The 32km loop road is a beautiful and amazing ...\n",
      "1478107   Yercaud       5  Great adventure picturesque hilly scenic valle...\n",
      "\n",
      "[861 rows x 3 columns]\n"
     ]
    }
   ],
   "source": [
    "# Filter reviews based on the list of cities\n",
    "filtered_reviews = reviews_df[reviews_df['City'].isin(cities)][['City', 'Rating', 'Raw_Review']]\n",
    "\n",
    "# Group by City and take the first 5 reviews for each city\n",
    "limited_reviews = filtered_reviews.groupby('City').head(5)\n",
    "\n",
    "# Display the limited reviews\n",
    "print(\"\\nLimited Reviews:\")\n",
    "print(limited_reviews)"
   ]
  },
  {
   "cell_type": "code",
   "execution_count": null,
   "id": "3ea5528c-2d48-4292-bc8c-ad94a6e740e5",
   "metadata": {},
   "outputs": [
    {
     "name": "stdout",
     "output_type": "stream",
     "text": [
      "Limited reviews have been saved to 'C:\\Users\\AKHNA\\Desktop\\MCA\\Smart-Tour-Guide\\reviews.csv'\n"
     ]
    }
   ],
   "source": [
    "\n",
    "output_file_path = 'C:\\\\Users\\\\AKHNA\\\\Desktop\\\\MCA\\\\Smart-Tour-Guide\\\\reviews.csv'\n",
    "limited_reviews.to_csv(output_file_path, index=False)\n",
    "\n",
    "print(f\"Limited reviews have been saved to '{output_file_path}'\")"
   ]
  },
  {
   "cell_type": "code",
   "execution_count": 57,
   "id": "2009987f-8256-4a4f-a150-9b1fc38ebd62",
   "metadata": {},
   "outputs": [
    {
     "name": "stdout",
     "output_type": "stream",
     "text": [
      "Number of unique cities in the CSV: 1794\n"
     ]
    }
   ],
   "source": [
    "# Count the number of unique cities\n",
    "unique_cities_count = reviews_df['City'].nunique()\n",
    "\n",
    "# Display the number of unique cities\n",
    "print(f\"Number of unique cities in the CSV: {unique_cities_count}\")"
   ]
  },
  {
   "cell_type": "code",
   "execution_count": 3,
   "id": "9d8ff273-91e0-43ef-999c-9c3a29f29413",
   "metadata": {},
   "outputs": [],
   "source": [
    "import pandas as pd\n",
    "import numpy as np"
   ]
  },
  {
   "cell_type": "code",
   "execution_count": 5,
   "id": "fbff1dd6-8d20-4ca5-b113-937788085aaf",
   "metadata": {},
   "outputs": [],
   "source": [
    "# Load the CSV files\n",
    "locations_df = pd.read_csv('locations.csv')\n",
    "reviews_df = pd.read_csv('rating_reviews.csv')"
   ]
  },
  {
   "cell_type": "code",
   "execution_count": 13,
   "id": "b74bc87b-70e5-47a3-828c-fbe96a3a9b10",
   "metadata": {},
   "outputs": [],
   "source": [
    "# Assuming 'locations.csv' has a column 'location_name' for merging with 'reviews.csv'\n",
    "# Merge the DataFrames on the appropriate column(s)\n",
    "merged_df = reviews_df.merge(locations_df[['City', 'l_id']], on='City')\n"
   ]
  },
  {
   "cell_type": "code",
   "execution_count": 15,
   "id": "edd2e500-12ed-45f4-ad50-e67756371f8d",
   "metadata": {},
   "outputs": [],
   "source": [
    "# Generate unique r_id (7-digit) for each review\n",
    "# Ensure uniqueness\n",
    "def generate_unique_r_id(existing_ids):\n",
    "    while True:\n",
    "        new_id = np.random.randint(1000000, 9999999)  # Generate a random 7-digit number\n",
    "        if new_id not in existing_ids:\n",
    "            return new_id\n",
    "\n",
    "# Create a list to store the new r_ids\n",
    "existing_r_ids = set()  # Store existing r_ids to ensure uniqueness\n",
    "r_ids = []\n",
    "\n",
    "for _ in range(len(merged_df)):\n",
    "    new_r_id = generate_unique_r_id(existing_r_ids)\n",
    "    r_ids.append(new_r_id)\n",
    "    existing_r_ids.add(new_r_id)\n",
    "\n",
    "# Add the new r_id column to the merged DataFrame\n",
    "merged_df['r_id'] = r_ids"
   ]
  },
  {
   "cell_type": "code",
   "execution_count": 17,
   "id": "65612a4a-a0e7-4e91-88c0-281a4e9a8394",
   "metadata": {},
   "outputs": [
    {
     "name": "stdout",
     "output_type": "stream",
     "text": [
      "          City  Rating                                         Raw_Review  \\\n",
      "0     Agartala       5  Nice park in khowai dist of Tripura. You can c...   \n",
      "1     Agartala       5  One of the good places to visit in town on a s...   \n",
      "2     Agartala       4  In the heart of the city this Hindu temple is ...   \n",
      "3     Agartala       4  You will only see a temple Nothing else to wat...   \n",
      "4     Agartala       4  14 goddess temple is is one of the tourist and...   \n",
      "...        ...     ...                                                ...   \n",
      "1186   Yercaud       3  Must visit this road if you're driving to Yerc...   \n",
      "1187   Yercaud       5  it was a beautiful foggy night ride up to yerc...   \n",
      "1188   Yercaud       5  We hired a taxi specifically to see this loop ...   \n",
      "1189   Yercaud       5  The 32km loop road is a beautiful and amazing ...   \n",
      "1190   Yercaud       5  Great adventure picturesque hilly scenic valle...   \n",
      "\n",
      "      l_id     r_id   t_id  \n",
      "0      282  3190647  24132  \n",
      "1      282  7990656  10677  \n",
      "2      282  6356277  53783  \n",
      "3      282  5473662  42928  \n",
      "4      282  6789652  33564  \n",
      "...    ...      ...    ...  \n",
      "1186   245  7669910  10677  \n",
      "1187   245  4503014  53783  \n",
      "1188   245  2326737  42928  \n",
      "1189   245  1323096  33564  \n",
      "1190   245  6913560  24132  \n",
      "\n",
      "[1191 rows x 6 columns]\n"
     ]
    }
   ],
   "source": [
    "# Assign tourist IDs (t_ids) to each review\n",
    "t_ids = [24132, 10677, 53783, 42928, 33564]\n",
    "merged_df['t_id'] = np.tile(t_ids, len(merged_df) // len(t_ids) + 1)[:len(merged_df)]\n",
    "\n",
    "# Display the resulting DataFrame\n",
    "print(merged_df)\n",
    "\n",
    "# Save the result to a new CSV file\n",
    "merged_df.to_csv('updated_reviews.csv', index=False)"
   ]
  },
  {
   "cell_type": "code",
   "execution_count": 23,
   "id": "fcdf56a5-3e4d-4717-b110-c1b336f8def7",
   "metadata": {},
   "outputs": [
    {
     "name": "stdout",
     "output_type": "stream",
     "text": [
      "         r_id   t_id  l_id      City  Rating  \\\n",
      "0     3190647  24132   282  Agartala       5   \n",
      "1     7990656  10677   282  Agartala       5   \n",
      "2     6356277  53783   282  Agartala       4   \n",
      "3     5473662  42928   282  Agartala       4   \n",
      "4     6789652  33564   282  Agartala       4   \n",
      "...       ...    ...   ...       ...     ...   \n",
      "1186  7669910  10677   245   Yercaud       3   \n",
      "1187  4503014  53783   245   Yercaud       5   \n",
      "1188  2326737  42928   245   Yercaud       5   \n",
      "1189  1323096  33564   245   Yercaud       5   \n",
      "1190  6913560  24132   245   Yercaud       5   \n",
      "\n",
      "                                                 Review  Unnamed: 6 Unnamed: 7  \n",
      "0     Nice park in khowai dist of Tripura. You can c...         NaN        NaN  \n",
      "1     One of the good places to visit in town on a s...         NaN        NaN  \n",
      "2     In the heart of the city this Hindu temple is ...         NaN        NaN  \n",
      "3     You will only see a temple Nothing else to wat...         NaN        NaN  \n",
      "4     14 goddess temple is is one of the tourist and...         NaN        NaN  \n",
      "...                                                 ...         ...        ...  \n",
      "1186  Must visit this road if you're driving to Yerc...         NaN        NaN  \n",
      "1187  it was a beautiful foggy night ride up to yerc...         NaN        NaN  \n",
      "1188  We hired a taxi specifically to see this loop ...         NaN        NaN  \n",
      "1189  The 32km loop road is a beautiful and amazing ...         NaN        NaN  \n",
      "1190  Great adventure picturesque hilly scenic valle...         NaN        NaN  \n",
      "\n",
      "[859 rows x 8 columns]\n"
     ]
    }
   ],
   "source": [
    "import pandas as pd\n",
    "\n",
    "# Step 1: Read the CSV file\n",
    "df = pd.read_csv('updated_reviews.csv')  # Replace with your actual file path\n",
    "\n",
    "# Step 2: Remove rows with duplicate values in the 'review' column\n",
    "# This will keep the first occurrence and remove subsequent duplicates\n",
    "df_cleaned = df.drop_duplicates(subset='Review', keep='first')  # or use keep='last' to keep the last occurrence\n",
    "\n",
    "# Step 3: Save the cleaned DataFrame to a new CSV file (optional)\n",
    "df_cleaned.to_csv('cleaned_reviews.csv', index=False)\n",
    "\n",
    "# Display the cleaned DataFrame\n",
    "print(df_cleaned)\n"
   ]
  }
 ],
 "metadata": {
  "kernelspec": {
   "display_name": "Python 3 (ipykernel)",
   "language": "python",
   "name": "python3"
  },
  "language_info": {
   "codemirror_mode": {
    "name": "ipython",
    "version": 3
   },
   "file_extension": ".py",
   "mimetype": "text/x-python",
   "name": "python",
   "nbconvert_exporter": "python",
   "pygments_lexer": "ipython3",
   "version": "3.12.4"
  }
 },
 "nbformat": 4,
 "nbformat_minor": 5
}
